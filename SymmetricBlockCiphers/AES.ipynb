{
 "cells": [
  {
   "cell_type": "code",
   "execution_count": 1,
   "metadata": {},
   "outputs": [],
   "source": [
    "import numpy as np"
   ]
  },
  {
   "cell_type": "code",
   "execution_count": 2,
   "metadata": {},
   "outputs": [],
   "source": [
    "SBox = [\n",
    "            0x63, 0x7C, 0x77, 0x7B, 0xF2, 0x6B, 0x6F, 0xC5, 0x30, 0x01, 0x67, 0x2B, 0xFE, 0xD7, 0xAB, 0x76,\n",
    "            0xCA, 0x82, 0xC9, 0x7D, 0xFA, 0x59, 0x47, 0xF0, 0xAD, 0xD4, 0xA2, 0xAF, 0x9C, 0xA4, 0x72, 0xC0,\n",
    "            0xB7, 0xFD, 0x93, 0x26, 0x36, 0x3F, 0xF7, 0xCC, 0x34, 0xA5, 0xE5, 0xF1, 0x71, 0xD8, 0x31, 0x15,\n",
    "            0x04, 0xC7, 0x23, 0xC3, 0x18, 0x96, 0x05, 0x9A, 0x07, 0x12, 0x80, 0xE2, 0xEB, 0x27, 0xB2, 0x75,\n",
    "            0x09, 0x83, 0x2C, 0x1A, 0x1B, 0x6E, 0x5A, 0xA0, 0x52, 0x3B, 0xD6, 0xB3, 0x29, 0xE3, 0x2F, 0x84,\n",
    "            0x53, 0xD1, 0x00, 0xED, 0x20, 0xFC, 0xB1, 0x5B, 0x6A, 0xCB, 0xBE, 0x39, 0x4A, 0x4C, 0x58, 0xCF,\n",
    "            0xD0, 0xEF, 0xAA, 0xFB, 0x43, 0x4D, 0x33, 0x85, 0x45, 0xF9, 0x02, 0x7F, 0x50, 0x3C, 0x9F, 0xA8,\n",
    "            0x51, 0xA3, 0x40, 0x8F, 0x92, 0x9D, 0x38, 0xF5, 0xBC, 0xB6, 0xDA, 0x21, 0x10, 0xFF, 0xF3, 0xD2,\n",
    "            0xCD, 0x0C, 0x13, 0xEC, 0x5F, 0x97, 0x44, 0x17, 0xC4, 0xA7, 0x7E, 0x3D, 0x64, 0x5D, 0x19, 0x73,\n",
    "            0x60, 0x81, 0x4F, 0xDC, 0x22, 0x2A, 0x90, 0x88, 0x46, 0xEE, 0xB8, 0x14, 0xDE, 0x5E, 0x0B, 0xDB,\n",
    "            0xE0, 0x32, 0x3A, 0x0A, 0x49, 0x06, 0x24, 0x5C, 0xC2, 0xD3, 0xAC, 0x62, 0x91, 0x95, 0xE4, 0x79,\n",
    "            0xE7, 0xC8, 0x37, 0x6D, 0x8D, 0xD5, 0x4E, 0xA9, 0x6C, 0x56, 0xF4, 0xEA, 0x65, 0x7A, 0xAE, 0x08,\n",
    "            0xBA, 0x78, 0x25, 0x2E, 0x1C, 0xA6, 0xB4, 0xC6, 0xE8, 0xDD, 0x74, 0x1F, 0x4B, 0xBD, 0x8B, 0x8A,\n",
    "            0x70, 0x3E, 0xB5, 0x66, 0x48, 0x03, 0xF6, 0x0E, 0x61, 0x35, 0x57, 0xB9, 0x86, 0xC1, 0x1D, 0x9E,\n",
    "            0xE1, 0xF8, 0x98, 0x11, 0x69, 0xD9, 0x8E, 0x94, 0x9B, 0x1E, 0x87, 0xE9, 0xCE, 0x55, 0x28, 0xDF,\n",
    "            0x8C, 0xA1, 0x89, 0x0D, 0xBF, 0xE6, 0x42, 0x68, 0x41, 0x99, 0x2D, 0x0F, 0xB0, 0x54, 0xBB, 0x16\n",
    "]\n",
    "\n",
    "SBox = np.reshape(np.array(SBox),(16, 16))\n",
    "\n",
    "round_func = [\n",
    "    0x01, 0x02, 0x04, 0x08, 0x10,0x20, 0x40, 0x80, 0x1B, 0x36,\n",
    "    0x00, 0x00, 0x00, 0x00, 0x00, 0x00, 0x00, 0x00, 0x00, 0x00,\n",
    "    0x00, 0x00, 0x00, 0x00, 0x00, 0x00, 0x00, 0x00, 0x00, 0x00,\n",
    "    0x00, 0x00, 0x00, 0x00, 0x00, 0x00, 0x00, 0x00, 0x00, 0x00\n",
    "]\n",
    "\n",
    "round_func = np.reshape(np.array(round_func), (4, 10))"
   ]
  },
  {
   "cell_type": "code",
   "execution_count": 3,
   "metadata": {},
   "outputs": [],
   "source": [
    "def padding(text): \n",
    "    # in case the text is not of length divisible by 16\n",
    "    if(len(text)%16!=0):\n",
    "        more = (((int(len(text)/16))+1)*16)-len(text)\n",
    "        text += 'x'*more\n",
    "    return text\n",
    "\n",
    "def block2state(text):\n",
    "    #converting 16 blocks to 4x4 matrix\n",
    "    text = padding(text)\n",
    "    hex_mat = np.array([\"0x{:02x}\".format(ord(c))[2:] for c in text])\n",
    "    hex_mat = np.reshape(hex_mat, (4,-1))\n",
    "    hex_mat = hex_mat.T\n",
    "    return hex_mat"
   ]
  },
  {
   "cell_type": "code",
   "execution_count": 4,
   "metadata": {},
   "outputs": [
    {
     "name": "stdout",
     "output_type": "stream",
     "text": [
      "Plain text is: Two One Nine Two\n",
      "[['54' '4f' '4e' '20']\n",
      " ['77' '6e' '69' '54']\n",
      " ['6f' '65' '6e' '77']\n",
      " ['20' '20' '65' '6f']]\n"
     ]
    }
   ],
   "source": [
    "f = open(\"18BCE0408_sample1.txt\", \"r\")\n",
    "plain_text = f.readline()\n",
    "f.close()\n",
    "\n",
    "print(f\"Plain text is: {plain_text}\")\n",
    "plain_text = block2state(plain_text)\n",
    "print(plain_text)"
   ]
  },
  {
   "cell_type": "code",
   "execution_count": 5,
   "metadata": {},
   "outputs": [
    {
     "name": "stdout",
     "output_type": "stream",
     "text": [
      "Enter the key: infosec\n",
      "[['69' '73' '78' '78']\n",
      " ['6e' '65' '78' '78']\n",
      " ['66' '63' '78' '78']\n",
      " ['6f' '78' '78' '78']]\n"
     ]
    }
   ],
   "source": [
    "key = input(\"Enter the key: \")\n",
    "key_mat = block2state(key)\n",
    "print(key_mat)"
   ]
  },
  {
   "cell_type": "code",
   "execution_count": 7,
   "metadata": {},
   "outputs": [],
   "source": [
    "def hex_xor(word1, word2):\n",
    "    res_word = np.array([\"0x{:02x}\".format(int(h1, 16)^int(h2, 16))[2:] for h1, h2 in zip(word1, word2)])\n",
    "    return res_word"
   ]
  },
  {
   "cell_type": "code",
   "execution_count": 8,
   "metadata": {},
   "outputs": [],
   "source": [
    "# key expansion\n",
    "\n",
    "def g_func(word):\n",
    "    word = list(word)\n",
    "    word = word[1:] + word[:1] #CLS-1\n",
    "    res_word = []\n",
    "    for i in range(4):\n",
    "        row = int(word[i][0], 16)\n",
    "        col = int(word[i][1], 16)\n",
    "        res_word += [\"0x{:02x}\".format(SBox[row, col])[2:]]\n",
    "    return np.array(res_word)\n",
    "\n",
    "def expand_key(key_mat):\n",
    "    keys = [list(key_mat)]\n",
    "    \n",
    "    w0, w1, w2, w3 = key_mat[:,0], key_mat[:,1], key_mat[:,2], key_mat[:,3]\n",
    "    \n",
    "    for i in range(10):\n",
    "        ## passing last word through g function\n",
    "        w3_ = hex_xor(g_func(w3), [\"0x{:02x}\".format(rf) for rf in round_func[:,i]])\n",
    "        \n",
    "        #generating new set of words\n",
    "        w4 = (hex_xor(w0, w3_))\n",
    "        w5 = (hex_xor(w1, w4))\n",
    "        w6 = (hex_xor(w2, w5))\n",
    "        w7 = (hex_xor(w3, w6))\n",
    "        \n",
    "        new_key_mat = list(np.array([w4, w5, w6, w7]).T)\n",
    "        keys += [new_key_mat]\n",
    "        \n",
    "        w0, w1, w2, w3 = w4, w5, w6, w7\n",
    "    \n",
    "    return np.array(keys)"
   ]
  },
  {
   "cell_type": "code",
   "execution_count": 9,
   "metadata": {
    "scrolled": true
   },
   "outputs": [
    {
     "name": "stdout",
     "output_type": "stream",
     "text": [
      "(11, 4, 4)\n"
     ]
    }
   ],
   "source": [
    "round_keys = expand_key(key_mat)\n",
    "print(round_keys.shape)"
   ]
  },
  {
   "cell_type": "code",
   "execution_count": 10,
   "metadata": {},
   "outputs": [
    {
     "name": "stdout",
     "output_type": "stream",
     "text": [
      "Round#0 Key\n",
      " [['69' '73' '78' '78']\n",
      " ['6e' '65' '78' '78']\n",
      " ['66' '63' '78' '78']\n",
      " ['6f' '78' '78' '78']]\n",
      "\n",
      "\n",
      "Round#1 Key\n",
      " [['d4' 'a7' 'df' 'a7']\n",
      " ['d2' 'b7' 'cf' 'b7']\n",
      " ['da' 'b9' 'c1' 'b9']\n",
      " ['d3' 'ab' 'd3' 'ab']]\n",
      "\n",
      "\n",
      "Round#2 Key\n",
      " [['7f' 'd8' '07' 'a0']\n",
      " ['84' '33' 'fc' '4b']\n",
      " ['b8' '01' 'c0' '79']\n",
      " ['8f' '24' 'f7' '5c']]\n",
      "\n",
      "\n",
      "Round#3 Key\n",
      " [['c8' '10' '17' 'b7']\n",
      " ['32' '01' 'fd' 'b6']\n",
      " ['f2' 'f3' '33' '4a']\n",
      " ['6f' '4b' 'bc' 'e0']]\n",
      "\n",
      "\n",
      "Round#4 Key\n",
      " [['8e' '9e' '89' '3e']\n",
      " ['e4' 'e5' '18' 'ae']\n",
      " ['13' 'e0' 'd3' '99']\n",
      " ['c6' '8d' '31' 'd1']]\n",
      "\n",
      "\n",
      "Round#5 Key\n",
      " [['7a' 'e4' '6d' '53']\n",
      " ['0a' 'ef' 'f7' '59']\n",
      " ['2d' 'cd' '1e' '87']\n",
      " ['74' 'f9' 'c8' '19']]\n",
      "\n",
      "\n",
      "Round#6 Key\n",
      " [['91' '75' '18' '4b']\n",
      " ['1d' 'f2' '05' '5c']\n",
      " ['f9' '34' '2a' 'ad']\n",
      " ['99' '60' 'a8' 'b1']]\n",
      "\n",
      "\n",
      "Round#7 Key\n",
      " [['9b' 'ee' 'f6' 'bd']\n",
      " ['88' '7a' '7f' '23']\n",
      " ['31' '05' '2f' '82']\n",
      " ['2a' '4a' 'e2' '53']]\n",
      "\n",
      "\n",
      "Round#8 Key\n",
      " [['3d' 'd3' '25' '98']\n",
      " ['9b' 'e1' '9e' 'bd']\n",
      " ['dc' 'd9' 'f6' '74']\n",
      " ['50' '1a' 'f8' 'ab']]\n",
      "\n",
      "\n",
      "Round#9 Key\n",
      " [['5c' '8f' 'aa' '32']\n",
      " ['09' 'e8' '76' 'cb']\n",
      " ['be' '67' '91' 'e5']\n",
      " ['16' '0c' 'f4' '5f']]\n",
      "\n",
      "\n",
      "Round#10 Key\n",
      " [['75' 'fa' '50' '62']\n",
      " ['d0' '38' '4e' '85']\n",
      " ['71' '16' '87' '62']\n",
      " ['35' '39' 'cd' '92']]\n",
      "\n",
      "\n"
     ]
    }
   ],
   "source": [
    "for i in range(11):\n",
    "    print(f\"Round#{i} Key\\n {round_keys[i]}\\n\\n\")"
   ]
  },
  {
   "cell_type": "code",
   "execution_count": 11,
   "metadata": {
    "scrolled": true
   },
   "outputs": [],
   "source": [
    "def gmul(a,b):\n",
    "    a = int(a,16)\n",
    "    if b == 1:\n",
    "        return a\n",
    "    tmp = (a<<1) & 0xff\n",
    "    if b == 2:\n",
    "        return tmp if a < 127 else tmp^0x1b\n",
    "    if b == 3:\n",
    "        return tmp^a if a < 127 else (tmp^0x1b)^a\n",
    "        \n",
    "\n",
    "def mix_col(a,b,c,d):\n",
    "    res = []\n",
    "    a1 = gmul(a, 2) ^ gmul(b, 3) ^ gmul(c, 1) ^ gmul(d, 1)\n",
    "    b1 = gmul(a, 1) ^ gmul(b, 2) ^ gmul(c, 3) ^ gmul(d, 1)\n",
    "    c1 = gmul(a, 1) ^ gmul(b, 1) ^ gmul(c, 2) ^ gmul(d, 3)\n",
    "    d1 = gmul(a, 3) ^ gmul(b, 1) ^ gmul(c, 1) ^ gmul(d, 2)\n",
    "\n",
    "    for c in [a1, b1, c1, d1]:\n",
    "        res += [\"0x{:02x}\".format(c)[2:]]\n",
    "    return np.array(res)"
   ]
  },
  {
   "cell_type": "code",
   "execution_count": 14,
   "metadata": {},
   "outputs": [
    {
     "name": "stdout",
     "output_type": "stream",
     "text": [
      "Round#0: 3D 19 09 4F 3C 0B 06 58 36 11 16 1D 58 2C 0F 17\n",
      "Round#1: 50 9a 53 2d 05 5d ab 6a 2d 41 09 78 df 7b 2e fd\n",
      "Round#2: 58 18 59 9f 79 ce f8 80 20 48 fe 4c 8a a4 44 5c\n",
      "Round#3: 6b c9 a0 75 51 e5 57 6e bf 53 0c 7d cf 63 60 dc\n",
      "Round#4: 63 ad c3 6c 46 03 db f9 f0 59 41 17 e9 97 62 37\n",
      "Round#5: 03 03 05 b5 ec 8d e3 d6 5a 9b f6 c8 82 56 6e ec\n",
      "Round#6: 0c d4 12 8c 84 7b af 13 2a 89 f2 5c 19 62 c4 25\n",
      "Round#7: a9 8b a6 e5 da 30 69 d8 76 e8 6e 4f e5 a6 32 91\n",
      "Round#8: 92 7b b6 bc 31 27 23 f2 7c e3 01 72 0b 8a ee 0c\n",
      "Round#9: 0f bf dc 90 64 10 4e ad cf c1 e3 fd 61 88 63 a5\n",
      "Round#10: 03 1a 60 33 b9 40 ed 59 da 8a 01 58 8d 8d 4d c6\n"
     ]
    }
   ],
   "source": [
    "# round functions\n",
    "\n",
    "## pre_round\n",
    "K0 = round_keys[0]\n",
    "res = []\n",
    "for i in range(4):\n",
    "    temp = hex_xor(plain_text[:,i], K0[:,i])\n",
    "    res += [temp]\n",
    "\n",
    "res = np.array(res).T\n",
    "# print(f\"Round#0 Result:\\n {res}\\n\\n\")\n",
    "res_line = ' '.join(res.T.ravel()).upper()\n",
    "print(f\"Round#0: {res_line}\")\n",
    "\n",
    "for r in range(1,11):\n",
    "    K = round_keys[r]\n",
    "    \n",
    "    #subbytes\n",
    "    for i in range(4):\n",
    "        for j in range(4):\n",
    "            row = int(res[i,j][0], 16)\n",
    "            col = int(res[i,j][1], 16)\n",
    "            res[i,j] = \"0x{:02x}\".format(SBox[row, col])[2:]\n",
    "    \n",
    "    #shiftrows\n",
    "    res[1,0], res[1,1], res[1,2], res[1,3] = res[1,1], res[1,2], res[1,3], res[1,0]\n",
    "    res[2,0], res[2,1], res[2,2], res[2,3] = res[2,2], res[2,3], res[2,0], res[2,1]\n",
    "    res[3,0], res[3,1], res[3,2], res[3,3] = res[3,3], res[3,0], res[3,1], res[3,2]\n",
    "    \n",
    "    #mixcolumns\n",
    "    if(r != 10):\n",
    "        for i in range(4):\n",
    "            a,b,c,d = res[:,i]  \n",
    "            res[:,i] = mix_col(a,b,c,d)\n",
    "    \n",
    "    #addkey\n",
    "    temp_res = []\n",
    "    for i in range(4):\n",
    "        temp = hex_xor(res[:,i], K[:,i])\n",
    "        temp_res += [temp]\n",
    "    res = np.array(temp_res).T\n",
    "    res_line = ' '.join(res.T.ravel())\n",
    "    print(f\"Round#{r}: {res_line}\")"
   ]
  },
  {
   "cell_type": "code",
   "execution_count": 15,
   "metadata": {},
   "outputs": [],
   "source": [
    "cipher = ' '.join(list(res.T.ravel()))\n",
    "f =open(\"18BCE0408_cipher.txt\", \"w\")\n",
    "f.write(cipher)\n",
    "f.close()"
   ]
  },
  {
   "cell_type": "code",
   "execution_count": null,
   "metadata": {},
   "outputs": [],
   "source": []
  }
 ],
 "metadata": {
  "kernelspec": {
   "display_name": "Python 3",
   "language": "python",
   "name": "python3"
  },
  "language_info": {
   "codemirror_mode": {
    "name": "ipython",
    "version": 3
   },
   "file_extension": ".py",
   "mimetype": "text/x-python",
   "name": "python",
   "nbconvert_exporter": "python",
   "pygments_lexer": "ipython3",
   "version": "3.7.6"
  }
 },
 "nbformat": 4,
 "nbformat_minor": 4
}
