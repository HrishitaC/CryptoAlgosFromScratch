{
 "cells": [
  {
   "cell_type": "code",
   "execution_count": 1,
   "metadata": {},
   "outputs": [],
   "source": [
    "import numpy as np"
   ]
  },
  {
   "cell_type": "code",
   "execution_count": 4,
   "metadata": {},
   "outputs": [
    {
     "name": "stdout",
     "output_type": "stream",
     "text": [
      "Enter plain_text: block cipher\n"
     ]
    }
   ],
   "source": [
    "K = np.array([[1,2,3],[4,5,6],[11,9,8]])\n",
    "letters = [ch for ch in \"ABCDEFGHIJKLMNOPQRSTUVWXYZ\"]\n",
    "plain_text = input(\"Enter plain_text: \").upper()\n",
    "plain_text = \"\".join(plain_text.split(\" \"))"
   ]
  },
  {
   "cell_type": "code",
   "execution_count": 5,
   "metadata": {},
   "outputs": [],
   "source": [
    "while(True):\n",
    "    if(len(plain_text)%3==0):\n",
    "       break\n",
    "    plain_text+=\"X\""
   ]
  },
  {
   "cell_type": "code",
   "execution_count": 6,
   "metadata": {},
   "outputs": [
    {
     "name": "stdout",
     "output_type": "stream",
     "text": [
      "[[ 1 11 14]\n",
      " [ 2 10  2]\n",
      " [ 8 15  7]\n",
      " [ 4 17 23]]\n"
     ]
    }
   ],
   "source": [
    "PT = [letters.index(ch) for ch in plain_text]\n",
    "PT = np.array(PT)\n",
    "PT.shape = (-1,3)\n",
    "print(PT)"
   ]
  },
  {
   "cell_type": "code",
   "execution_count": 7,
   "metadata": {},
   "outputs": [
    {
     "name": "stdout",
     "output_type": "stream",
     "text": [
      "[[13  2  7  3]\n",
      " [13 18 19  5]\n",
      " [14 24 19 17]]\n"
     ]
    }
   ],
   "source": [
    "result_mat = K.dot(PT.T)\n",
    "result_mat = result_mat%26\n",
    "print(result_mat)"
   ]
  },
  {
   "cell_type": "code",
   "execution_count": 8,
   "metadata": {},
   "outputs": [
    {
     "name": "stdout",
     "output_type": "stream",
     "text": [
      "NCHDNSTFOYTR\n"
     ]
    }
   ],
   "source": [
    "result = result_mat.ravel()\n",
    "cipher = \"\".join([letters[n] for n in result])\n",
    "print(cipher)"
   ]
  },
  {
   "cell_type": "code",
   "execution_count": null,
   "metadata": {},
   "outputs": [],
   "source": []
  }
 ],
 "metadata": {
  "kernelspec": {
   "display_name": "Python 3",
   "language": "python",
   "name": "python3"
  },
  "language_info": {
   "codemirror_mode": {
    "name": "ipython",
    "version": 3
   },
   "file_extension": ".py",
   "mimetype": "text/x-python",
   "name": "python",
   "nbconvert_exporter": "python",
   "pygments_lexer": "ipython3",
   "version": "3.7.6"
  }
 },
 "nbformat": 4,
 "nbformat_minor": 4
}
