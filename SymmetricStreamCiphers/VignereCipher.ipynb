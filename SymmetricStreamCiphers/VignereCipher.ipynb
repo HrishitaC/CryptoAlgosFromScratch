{
 "cells": [
  {
   "cell_type": "code",
   "execution_count": 25,
   "metadata": {},
   "outputs": [],
   "source": [
    "letters = [ch for ch in \"ABCDEFGHIJKLMNOPQRSTUVWXYZ\"]"
   ]
  },
  {
   "cell_type": "code",
   "execution_count": 29,
   "metadata": {},
   "outputs": [],
   "source": [
    "def encrypt(key):\n",
    "    plain_text = input(\"Enter plain text: \").upper()\n",
    "    plain_text = \"\".join(plain_text.split(\" \"))\n",
    "    cipher = \"\"\n",
    "    for i in range(len(plain_text)):\n",
    "        p_i = letters.index(plain_text[i]) \n",
    "        k_i = letters.index(key[i%len(key)]) \n",
    "        c_i = (p_i + k_i)%26\n",
    "        cipher += letters[c_i]\n",
    "    print(f\"Cipher text is {cipher}\")"
   ]
  },
  {
   "cell_type": "code",
   "execution_count": 30,
   "metadata": {},
   "outputs": [],
   "source": [
    "def decrypt(key):\n",
    "    cipher = input(\"Enter cipher: \").upper()\n",
    "    cipher = \"\".join(cipher.split(\" \"))\n",
    "    plain_text = \"\"\n",
    "    for i in range(len(cipher)):\n",
    "        c_i = letters.index(cipher[i]) \n",
    "        k_i = letters.index(key[i%len(key)]) \n",
    "        p_i = (c_i - k_i)%26\n",
    "        plain_text += letters[p_i]\n",
    "    print(f\"Plain text is {plain_text}\")"
   ]
  },
  {
   "cell_type": "code",
   "execution_count": 31,
   "metadata": {
    "collapsed": true
   },
   "outputs": [
    {
     "name": "stdout",
     "output_type": "stream",
     "text": [
      "Enter key: cipher\n",
      "Enter 1 for encryption, 2 for decryption: 1\n",
      "Enter plain text: this crypto system\n",
      "Cipher text is VPXZGIAXIVWPUBTT\n",
      "More conversions? (Y-Yes, N-No): y\n",
      "\n",
      "Enter key: cipher\n",
      "Enter 1 for encryption, 2 for decryption: 2\n",
      "Enter cipher: VPXZGIAXIVWPUBTT\n",
      "Plain text is THISCRYPTOSYSTEM\n",
      "More conversions? (Y-Yes, N-No): n\n"
     ]
    }
   ],
   "source": [
    "while(True):\n",
    "    key = input(\"Enter key: \").upper()\n",
    "    choice = int(input(\"Enter 1 for encryption, 2 for decryption: \"))\n",
    "    if(choice==1):\n",
    "        encrypt(key)\n",
    "    elif(choice==2):\n",
    "        decrypt(key)\n",
    "    else:\n",
    "        print(\"Incorrect choice\")\n",
    "    cont = input(\"More conversions? (Y-Yes, N-No): \").upper()\n",
    "    if(cont!='Y'):\n",
    "        break\n",
    "    else:\n",
    "        print()"
   ]
  },
  {
   "cell_type": "code",
   "execution_count": null,
   "metadata": {},
   "outputs": [],
   "source": []
  }
 ],
 "metadata": {
  "kernelspec": {
   "display_name": "Python 3",
   "language": "python",
   "name": "python3"
  },
  "language_info": {
   "codemirror_mode": {
    "name": "ipython",
    "version": 3
   },
   "file_extension": ".py",
   "mimetype": "text/x-python",
   "name": "python",
   "nbconvert_exporter": "python",
   "pygments_lexer": "ipython3",
   "version": "3.7.6"
  }
 },
 "nbformat": 4,
 "nbformat_minor": 4
}
