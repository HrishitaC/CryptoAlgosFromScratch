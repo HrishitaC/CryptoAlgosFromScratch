{
 "cells": [
  {
   "cell_type": "code",
   "execution_count": 12,
   "metadata": {},
   "outputs": [],
   "source": [
    "letters = [ch for ch in \"ABCDEFGHIJKLMNOPQRSTUVWXYZ\"]"
   ]
  },
  {
   "cell_type": "code",
   "execution_count": 14,
   "metadata": {},
   "outputs": [
    {
     "name": "stdout",
     "output_type": "stream",
     "text": [
      "Enter shift parameter: 3\n",
      "Enter 1 for encryption or 0 for decryption: 1\n",
      "Enter plain text: expecting\n",
      "The encrypted text is HASHFWLQJ\n",
      "Another conversion? (Y - yes, N - no)Y\n",
      "Enter 1 for encryption or 0 for decryption: 0\n",
      "Enter plain text: HASHFWLQJ\n",
      "The decrypted text is EXPECTING\n",
      "Another conversion? (Y - yes, N - no)N\n"
     ]
    }
   ],
   "source": [
    "k = int(input(\"Enter shift parameter: \"))\n",
    "choice = 'Y'\n",
    "while(choice=='Y'):\n",
    "    encrypt = int(input(\"Enter 1 for encryption or 0 for decryption: \"))\n",
    "    if(encrypt==1):\n",
    "        plain_text = input(\"Enter plain text: \").upper()\n",
    "        cipher_text = \"\"\n",
    "        for ch in plain_text:\n",
    "            cipher_text += letters[(letters.index(ch)+k)%26]\n",
    "        print(f\"The encrypted text is {cipher_text}\")\n",
    "    elif(encrypt==0):\n",
    "        cipher_text = input(\"Enter plain text: \").upper()\n",
    "        plain_text = \"\"\n",
    "        for ch in cipher_text:\n",
    "            plain_text += letters[(letters.index(ch)-k)%26]\n",
    "        print(f\"The decrypted text is {plain_text}\")\n",
    "    else:\n",
    "        print(\"Incorrect choice\")\n",
    "    choice = input(\"Another conversion? (Y - yes, N - no)\").upper()"
   ]
  },
  {
   "cell_type": "code",
   "execution_count": null,
   "metadata": {},
   "outputs": [],
   "source": []
  }
 ],
 "metadata": {
  "kernelspec": {
   "display_name": "Python 3",
   "language": "python",
   "name": "python3"
  },
  "language_info": {
   "codemirror_mode": {
    "name": "ipython",
    "version": 3
   },
   "file_extension": ".py",
   "mimetype": "text/x-python",
   "name": "python",
   "nbconvert_exporter": "python",
   "pygments_lexer": "ipython3",
   "version": "3.7.6"
  }
 },
 "nbformat": 4,
 "nbformat_minor": 4
}
