{
 "cells": [
  {
   "cell_type": "code",
   "execution_count": 29,
   "metadata": {},
   "outputs": [
    {
     "name": "stdout",
     "output_type": "stream",
     "text": [
      "Enter key word: playfair\n",
      "[['P' 'L' 'A' 'Y' 'F']\n",
      " ['I' 'R' 'B' 'C' 'D']\n",
      " ['E' 'G' 'H' 'K' 'M']\n",
      " ['N' 'O' 'Q' 'S' 'T']\n",
      " ['U' 'V' 'W' 'X' 'Z']]\n"
     ]
    }
   ],
   "source": [
    "import numpy as np\n",
    "\n",
    "key = \"\".join(input(\"Enter key word: \").upper().split(\" \"))\n",
    "key_matrix = []\n",
    "\n",
    "for ch in key:\n",
    "    if ch not in key_matrix and ch!='J':\n",
    "        key_matrix.append(ch)\n",
    "\n",
    "for ch in \"ABCDEFGHIKLMNOPQRSTUVWXYZ\":\n",
    "    if ch not in key_matrix:\n",
    "        key_matrix.append(ch)\n",
    "        \n",
    "# key_matrix = [['P', 'L', 'A', 'Y', 'F'], ['I', 'R', 'B', 'C', 'D'], ['E', 'G', 'H', 'K', 'M'], ['N', 'O', 'Q', 'S', 'T'], ['U', 'V', 'W', 'X', 'Z']]\n",
    "key_matrix = np.array(key_matrix)\n",
    "\n",
    "key_matrix.shape = (5,5)\n",
    "\n",
    "print(key_matrix)"
   ]
  },
  {
   "cell_type": "code",
   "execution_count": 30,
   "metadata": {},
   "outputs": [],
   "source": [
    "def encrypt():\n",
    "    \n",
    "    plain_text = input(\"Enter message to be encrypted: \").upper().split(\" \")\n",
    "    plain_text = \"\".join(plain_text)\n",
    "\n",
    "    cipher = \"\"\n",
    "\n",
    "    i=0\n",
    "    while(i<len(plain_text)):\n",
    "        if (i==len(plain_text)-1):\n",
    "            ch1 = plain_text[i]\n",
    "            ch2 = 'X'\n",
    "            i+=1\n",
    "        elif(plain_text[i]!=plain_text[i+1]):\n",
    "            ch1 = plain_text[i]\n",
    "            ch2 = plain_text[i+1]\n",
    "            i+=2\n",
    "        else:\n",
    "            ch1 = plain_text[i]\n",
    "            ch2 = 'X'\n",
    "            i+=1\n",
    "\n",
    "        if(ch1=='J'):\n",
    "            ch1='I'\n",
    "        elif(ch2=='J'):\n",
    "            ch2='I'\n",
    "\n",
    "        ch1_index = np.argwhere(key_matrix == ch1)[0]\n",
    "        ch2_index = np.argwhere(key_matrix == ch2)[0]\n",
    "\n",
    "        if(ch1_index[0]==ch2_index[0]):\n",
    "            cipher += key_matrix[ch1_index[0]][(ch1_index[1]+1)%5]\n",
    "            cipher += key_matrix[ch2_index[0]][(ch2_index[1]+1)%5]\n",
    "            \n",
    "        elif(ch1_index[1]==ch2_index[1]):\n",
    "            cipher += key_matrix[(ch1_index[0]+1)%5][ch1_index[1]]\n",
    "            cipher += key_matrix[(ch2_index[0]+1)%5][ch2_index[1]]\n",
    "            \n",
    "        else:\n",
    "            cipher += key_matrix[ch1_index[0]][ch2_index[1]]\n",
    "            cipher += key_matrix[ch2_index[0]][ch1_index[1]]\n",
    "\n",
    "    print(cipher)"
   ]
  },
  {
   "cell_type": "code",
   "execution_count": 33,
   "metadata": {},
   "outputs": [],
   "source": [
    "def decrypt():\n",
    "    cipher = \"\".join(input(\"Enter message to be decrypted: \").upper().split(\" \"))\n",
    "\n",
    "    plain_text = \"\"\n",
    "\n",
    "    for i in range(0,len(cipher),2):\n",
    "        ch1 = cipher[i]\n",
    "        ch2 = cipher[i+1]\n",
    "        \n",
    "        if(ch1=='J'):\n",
    "            ch1='I'\n",
    "        elif(ch2=='J'):\n",
    "            ch2='I'\n",
    "\n",
    "        ch1_index = np.argwhere(key_matrix == ch1)[0]\n",
    "        ch2_index = np.argwhere(key_matrix == ch2)[0]\n",
    "\n",
    "        if(ch1_index[0]==ch2_index[0]):\n",
    "            plain_text += key_matrix[ch1_index[0]][(ch1_index[1]-1)%5]\n",
    "            plain_text += key_matrix[ch2_index[0]][(ch2_index[1]-1)%5]\n",
    "            \n",
    "        elif(ch1_index[1]==ch2_index[1]):\n",
    "            plain_text += key_matrix[(ch1_index[0]-1)%5][ch1_index[1]]\n",
    "            plain_text += key_matrix[(ch2_index[0]-1)%5][ch2_index[1]]\n",
    "            \n",
    "        else:\n",
    "            plain_text += key_matrix[ch1_index[0]][ch2_index[1]]\n",
    "            plain_text += key_matrix[ch2_index[0]][ch1_index[1]]\n",
    "\n",
    "    print(plain_text)"
   ]
  },
  {
   "cell_type": "code",
   "execution_count": 36,
   "metadata": {},
   "outputs": [
    {
     "name": "stdout",
     "output_type": "stream",
     "text": [
      "Enter 1 for encryption 2 for decryption: 1\n",
      "Enter message to be encrypted: meet at the school house\n",
      "EGMNFQQMKNBKSVVRGQXNKU\n",
      "\n",
      "Another conversion? (Y - yes, N - no): y\n",
      "\n",
      "Enter 1 for encryption 2 for decryption: 2\n",
      "Enter message to be decrypted: EGMNFQQMKNBKSVVRGQXNKU\n",
      "MEETATTHESCHOXOLHOUSEX\n",
      "\n",
      "Another conversion? (Y - yes, N - no): n\n"
     ]
    }
   ],
   "source": [
    "more = 'Y'\n",
    "while(more=='Y'):\n",
    "    choice = int(input('Enter 1 for encryption 2 for decryption: '))\n",
    "    if(choice==1):\n",
    "        encrypt()\n",
    "    elif(choice==2):\n",
    "        decrypt()\n",
    "    else:\n",
    "        print(\"Incorrect choice\")\n",
    "    print()\n",
    "    more = input(\"Another conversion? (Y - yes, N - no): \").upper()\n",
    "    if(more=='Y'):\n",
    "        print()"
   ]
  },
  {
   "cell_type": "code",
   "execution_count": null,
   "metadata": {},
   "outputs": [],
   "source": []
  }
 ],
 "metadata": {
  "kernelspec": {
   "display_name": "Python 3",
   "language": "python",
   "name": "python3"
  },
  "language_info": {
   "codemirror_mode": {
    "name": "ipython",
    "version": 3
   },
   "file_extension": ".py",
   "mimetype": "text/x-python",
   "name": "python",
   "nbconvert_exporter": "python",
   "pygments_lexer": "ipython3",
   "version": "3.7.6"
  }
 },
 "nbformat": 4,
 "nbformat_minor": 4
}
